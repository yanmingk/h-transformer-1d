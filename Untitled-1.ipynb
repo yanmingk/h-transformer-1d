{
 "cells": [
  {
   "cell_type": "code",
   "execution_count": 1,
   "metadata": {},
   "outputs": [],
   "source": [
    "from h_transformer_1d.h_transformer_1d import masked_aggregate, shift"
   ]
  },
  {
   "cell_type": "code",
   "execution_count": 2,
   "metadata": {},
   "outputs": [],
   "source": [
    "\n",
    "from einops import rearrange, reduce, repeat\n",
    "import torch"
   ]
  },
  {
   "cell_type": "code",
   "execution_count": 10,
   "metadata": {},
   "outputs": [
    {
     "name": "stdout",
     "output_type": "stream",
     "text": [
      "tensor([ True, False, False, False, False, False, False, False, False, False])\n",
      "tensor([ True,  True, False, False, False, False, False, False, False, False])\n",
      "tensor([ True,  True,  True, False, False, False, False, False, False, False])\n",
      "tensor([ True,  True,  True,  True, False, False, False, False, False, False])\n",
      "tensor([ True,  True,  True,  True,  True, False, False, False, False, False])\n",
      "tensor([[[1., 1., 1.],\n",
      "         [1., 1., 1.]],\n",
      "\n",
      "        [[1., 1., 1.],\n",
      "         [1., 1., 1.]],\n",
      "\n",
      "        [[1., 1., 1.],\n",
      "         [1., 1., 1.]],\n",
      "\n",
      "        [[1., 1., 1.],\n",
      "         [1., 1., 1.]],\n",
      "\n",
      "        [[1., 1., 1.],\n",
      "         [1., 1., 1.]]])\n"
     ]
    }
   ],
   "source": [
    "q = torch.ones(5,10,3)\n",
    "# mask = torch.tril(torch.ones(10, 10)) == 1\n",
    "mask = torch.tril(torch.ones(5, 10)) == 1\n",
    "for i in range(len(q)):\n",
    "    print(mask[i])\n",
    "# q = map(lambda t: rearrange(t, 'b (n r) d -> b n r d', r = 2), (q))\n",
    "q = rearrange(q, 'b (n r) d -> b n r d', r = 2)\n",
    "mask = rearrange(mask, 'b (n r) -> b n r', r = 2)\n",
    "# mask = repeat(mask, 'b (n r) -> b n r', r = 2)\n",
    "print(q[0])"
   ]
  },
  {
   "cell_type": "code",
   "execution_count": 8,
   "metadata": {},
   "outputs": [
    {
     "name": "stdout",
     "output_type": "stream",
     "text": [
      "tensor([[ True, False],\n",
      "        [False, False],\n",
      "        [False, False],\n",
      "        [False, False],\n",
      "        [False, False]])\n",
      "tensor([[ True,  True],\n",
      "        [False, False],\n",
      "        [False, False],\n",
      "        [False, False],\n",
      "        [False, False]])\n",
      "tensor([[ True,  True],\n",
      "        [ True, False],\n",
      "        [False, False],\n",
      "        [False, False],\n",
      "        [False, False]])\n",
      "tensor([[ True,  True],\n",
      "        [ True,  True],\n",
      "        [False, False],\n",
      "        [False, False],\n",
      "        [False, False]])\n",
      "tensor([[ True,  True],\n",
      "        [ True,  True],\n",
      "        [ True, False],\n",
      "        [False, False],\n",
      "        [False, False]])\n",
      "tensor([[1., 1., 1.],\n",
      "        [0., 0., 0.],\n",
      "        [0., 0., 0.],\n",
      "        [0., 0., 0.],\n",
      "        [0., 0., 0.]])\n",
      "tensor([[1., 1., 1.],\n",
      "        [0., 0., 0.],\n",
      "        [0., 0., 0.],\n",
      "        [0., 0., 0.],\n",
      "        [0., 0., 0.]])\n",
      "tensor([[1., 1., 1.],\n",
      "        [1., 1., 1.],\n",
      "        [0., 0., 0.],\n",
      "        [0., 0., 0.],\n",
      "        [0., 0., 0.]])\n",
      "tensor([[1., 1., 1.],\n",
      "        [1., 1., 1.],\n",
      "        [0., 0., 0.],\n",
      "        [0., 0., 0.],\n",
      "        [0., 0., 0.]])\n",
      "tensor([[1., 1., 1.],\n",
      "        [1., 1., 1.],\n",
      "        [1., 1., 1.],\n",
      "        [0., 0., 0.],\n",
      "        [0., 0., 0.]])\n"
     ]
    }
   ],
   "source": [
    "for i in range(len(q)):\n",
    "    print(mask[i])\n",
    "q = masked_aggregate(q, mask, dim = 2)\n",
    "for i in range(len(q)):\n",
    "    print(q[i])"
   ]
  },
  {
   "cell_type": "code",
   "execution_count": 65,
   "metadata": {},
   "outputs": [
    {
     "data": {
      "text/plain": [
       "(tensor([[0., 0.],\n",
       "         [0., 0.],\n",
       "         [1., 1.],\n",
       "         [0., 0.],\n",
       "         [0., 0.],\n",
       "         [0., 0.],\n",
       "         [0., 0.],\n",
       "         [0., 0.],\n",
       "         [0., 0.],\n",
       "         [0., 0.]]),\n",
       " tensor([[0., 0.],\n",
       "         [0., 0.],\n",
       "         [1., 1.],\n",
       "         [1., 1.],\n",
       "         [0., 0.],\n",
       "         [0., 0.],\n",
       "         [0., 0.],\n",
       "         [0., 0.],\n",
       "         [0., 0.],\n",
       "         [0., 0.]]),\n",
       " tensor([[0., 0.],\n",
       "         [0., 0.],\n",
       "         [1., 1.],\n",
       "         [1., 1.],\n",
       "         [1., 1.],\n",
       "         [0., 0.],\n",
       "         [0., 0.],\n",
       "         [0., 0.],\n",
       "         [0., 0.],\n",
       "         [0., 0.]]),\n",
       " torch.Size([10, 10, 2]))"
      ]
     },
     "execution_count": 65,
     "metadata": {},
     "output_type": "execute_result"
    }
   ],
   "source": [
    "y = shift(x,2,mask)\n",
    "y[0], y[1], y[2], y.shape"
   ]
  },
  {
   "cell_type": "code",
   "execution_count": 30,
   "metadata": {},
   "outputs": [
    {
     "data": {
      "text/plain": [
       "(1, torch.Size([10, 10, 1]))"
      ]
     },
     "execution_count": 30,
     "metadata": {},
     "output_type": "execute_result"
    }
   ],
   "source": [
    "diff_len = len(x.shape) - len(mask.shape)\n",
    "mask = mask[..., *((None,) * diff_len)]\n",
    "diff_len, mask.shape"
   ]
  },
  {
   "cell_type": "code",
   "execution_count": 33,
   "metadata": {},
   "outputs": [
    {
     "data": {
      "text/plain": [
       "(None, None)"
      ]
     },
     "execution_count": 33,
     "metadata": {},
     "output_type": "execute_result"
    }
   ],
   "source": [
    "(None,) * 2"
   ]
  },
  {
   "cell_type": "code",
   "execution_count": 47,
   "metadata": {},
   "outputs": [],
   "source": [
    "y = masked_aggregate(x, mask, average=False)"
   ]
  },
  {
   "cell_type": "code",
   "execution_count": 48,
   "metadata": {},
   "outputs": [
    {
     "data": {
      "text/plain": [
       "tensor([[20.,  0.,  0.,  0.,  0.,  0.,  0.,  0.,  0.,  0.],\n",
       "        [20., 20.,  0.,  0.,  0.,  0.,  0.,  0.,  0.,  0.],\n",
       "        [20., 20., 20.,  0.,  0.,  0.,  0.,  0.,  0.,  0.],\n",
       "        [20., 20., 20., 20.,  0.,  0.,  0.,  0.,  0.,  0.],\n",
       "        [20., 20., 20., 20., 20.,  0.,  0.,  0.,  0.,  0.],\n",
       "        [20., 20., 20., 20., 20., 20.,  0.,  0.,  0.,  0.],\n",
       "        [20., 20., 20., 20., 20., 20., 20.,  0.,  0.,  0.],\n",
       "        [20., 20., 20., 20., 20., 20., 20., 20.,  0.,  0.],\n",
       "        [20., 20., 20., 20., 20., 20., 20., 20., 20.,  0.],\n",
       "        [20., 20., 20., 20., 20., 20., 20., 20., 20., 20.]])"
      ]
     },
     "execution_count": 48,
     "metadata": {},
     "output_type": "execute_result"
    }
   ],
   "source": [
    "y"
   ]
  },
  {
   "cell_type": "code",
   "execution_count": null,
   "metadata": {},
   "outputs": [],
   "source": []
  }
 ],
 "metadata": {
  "kernelspec": {
   "display_name": "msci641",
   "language": "python",
   "name": "python3"
  },
  "language_info": {
   "codemirror_mode": {
    "name": "ipython",
    "version": 3
   },
   "file_extension": ".py",
   "mimetype": "text/x-python",
   "name": "python",
   "nbconvert_exporter": "python",
   "pygments_lexer": "ipython3",
   "version": "3.11.2"
  },
  "orig_nbformat": 4
 },
 "nbformat": 4,
 "nbformat_minor": 2
}
